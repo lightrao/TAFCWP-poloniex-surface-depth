{
 "cells": [
  {
   "cell_type": "code",
   "execution_count": 1,
   "metadata": {},
   "outputs": [
    {
     "name": "stdout",
     "output_type": "stream",
     "text": [
      "Requirement already satisfied: requests in ./.venv/lib/python3.10/site-packages (2.32.3)\n",
      "Requirement already satisfied: charset-normalizer<4,>=2 in ./.venv/lib/python3.10/site-packages (from requests) (3.3.2)\n",
      "Requirement already satisfied: idna<4,>=2.5 in ./.venv/lib/python3.10/site-packages (from requests) (3.7)\n",
      "Requirement already satisfied: urllib3<3,>=1.21.1 in ./.venv/lib/python3.10/site-packages (from requests) (2.2.2)\n",
      "Requirement already satisfied: certifi>=2017.4.17 in ./.venv/lib/python3.10/site-packages (from requests) (2024.7.4)\n"
     ]
    }
   ],
   "source": [
    "!pip3 install requests"
   ]
  },
  {
   "cell_type": "code",
   "execution_count": 2,
   "metadata": {},
   "outputs": [],
   "source": [
    "import func_arbitrage_v2\n",
    "import json\n",
    "\n",
    "\"\"\"\n",
    "    Step 0: Finding coins which can be traded\n",
    "    Exchange: Poloniex\n",
    "    https://docs.poloniex.com/#introduction\n",
    "    updated code: https://github.com/CryptoWizardsNet/poloniex-triarb-new.git\n",
    "\"\"\"\n",
    "\n",
    "\n",
    "def step_0():\n",
    "    # Set Variables\n",
    "    coins_url = \"https://api.poloniex.com/markets/price\"\n",
    "    coin_price_url = \"https://api.poloniex.com/markets/ticker24h\"\n",
    "\n",
    "    # Extract list of coins and prices from Exchange\n",
    "    coin_json = func_arbitrage_v2.get_coin_tikers(coin_price_url)\n",
    "\n",
    "    # Loop through each objects and find the tradeable pairs\n",
    "    coin_list = func_arbitrage_v2.collect_tradeables(coin_json)\n",
    "\n",
    "    # Return list of tradable coins\n",
    "    return coin_list"
   ]
  },
  {
   "cell_type": "code",
   "execution_count": 3,
   "metadata": {},
   "outputs": [],
   "source": [
    "\"\"\"\n",
    "    Step 1: Structuring Triangular Pairs\n",
    "    Calculating Only\n",
    "\"\"\"\n",
    "\n",
    "\n",
    "def step_1(coin_list):\n",
    "\n",
    "    # Structure the list of tradeable triangular arbitrage pairs\n",
    "    structured_list = func_arbitrage_v2.structure_triangular_pairs(coin_list)\n",
    "\n",
    "    # Save structured list\n",
    "    with open(\"structured_triangular_pairs_v2.json\",\"w\") as fp:\n",
    "        json.dump(structured_list, fp)"
   ]
  },
  {
   "cell_type": "code",
   "execution_count": 4,
   "metadata": {},
   "outputs": [],
   "source": [
    "\"\"\" MAIN \"\"\"\n",
    "\n",
    "if __name__ == \"__main__\":\n",
    "    coin_list = step_0()\n",
    "    structured_paris = step_1(coin_list)"
   ]
  }
 ],
 "metadata": {
  "kernelspec": {
   "display_name": ".venv",
   "language": "python",
   "name": "python3"
  },
  "language_info": {
   "codemirror_mode": {
    "name": "ipython",
    "version": 3
   },
   "file_extension": ".py",
   "mimetype": "text/x-python",
   "name": "python",
   "nbconvert_exporter": "python",
   "pygments_lexer": "ipython3",
   "version": "3.10.12"
  }
 },
 "nbformat": 4,
 "nbformat_minor": 2
}
